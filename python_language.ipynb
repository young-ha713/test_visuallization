{
  "nbformat": 4,
  "nbformat_minor": 0,
  "metadata": {
    "colab": {
      "name": "python_language.ipynb",
      "provenance": [],
      "authorship_tag": "ABX9TyP1P6sWMtV9F3vOp+DDz4hV",
      "include_colab_link": true
    },
    "kernelspec": {
      "name": "python3",
      "display_name": "Python 3"
    },
    "language_info": {
      "name": "python"
    }
  },
  "cells": [
    {
      "cell_type": "markdown",
      "metadata": {
        "id": "view-in-github",
        "colab_type": "text"
      },
      "source": [
        "<a href=\"https://colab.research.google.com/github/young-ha713/test_visuallization/blob/main/python_language.ipynb\" target=\"_parent\"><img src=\"https://colab.research.google.com/assets/colab-badge.svg\" alt=\"Open In Colab\"/></a>"
      ]
    },
    {
      "cell_type": "code",
      "metadata": {
        "id": "wDGHun1YThXr"
      },
      "source": [
        "import numpy as np"
      ],
      "execution_count": null,
      "outputs": []
    },
    {
      "cell_type": "code",
      "metadata": {
        "colab": {
          "base_uri": "https://localhost:8080/",
          "height": 34
        },
        "id": "BwdfUsGsVWgI",
        "outputId": "a5061f02-307f-4046-d3a1-71c11e46fd2a"
      },
      "source": [
        "np.__version__"
      ],
      "execution_count": null,
      "outputs": [
        {
          "output_type": "execute_result",
          "data": {
            "application/vnd.google.colaboratory.intrinsic+json": {
              "type": "string"
            },
            "text/plain": [
              "'1.19.5'"
            ]
          },
          "metadata": {
            "tags": []
          },
          "execution_count": 34
        }
      ]
    },
    {
      "cell_type": "code",
      "metadata": {
        "id": "k0a4-Fyf2Zxf"
      },
      "source": [
        "def onehotcylinder(cylinders):\n",
        "  if cylinders == 3:\n",
        "    cylinder = np.array([1,0,0,0,0])\n",
        "  elif cylinders == 4:\n",
        "    cylinder = np.array([0,1,0,0,0])\n",
        "  elif cylinders == 5:\n",
        "    cylinder = np.array([0,0,1,0,0])\n",
        "  elif cylinders == 6:\n",
        "    cylinder = np.array([0,0,0,1,0])\n",
        "  else :\n",
        "    cylinder = np.array([0,0,0,0,1])\n",
        "  return cylinder"
      ],
      "execution_count": null,
      "outputs": []
    },
    {
      "cell_type": "code",
      "metadata": {
        "colab": {
          "base_uri": "https://localhost:8080/"
        },
        "id": "pd6z5dOy3CKd",
        "outputId": "00f0a039-a129-4c72-9c4e-4c97ff854323"
      },
      "source": [
        "onehotcylinder(4) , onehotcylinder(6)"
      ],
      "execution_count": null,
      "outputs": [
        {
          "output_type": "execute_result",
          "data": {
            "text/plain": [
              "(array([0, 1, 0, 0, 0]), array([0, 0, 0, 1, 0]))"
            ]
          },
          "metadata": {
            "tags": []
          },
          "execution_count": 62
        }
      ]
    },
    {
      "cell_type": "code",
      "metadata": {
        "id": "LsFaDHg2Vq-P"
      },
      "source": [
        "displacement = 307.0\n",
        "horsepower = 130.0\n",
        "weight = 3504.0\n",
        "accel = 12.0\n",
        "cylinders = 8\n",
        "origin = 1\n",
        "##if cylinders =8 ,origin =1 -->onehot encording\n",
        "import numpy as np\n",
        "\n",
        "\n",
        "x_continues =np.array([displacement, horsepower, weight, accel])\n",
        "#cylinder =np.array([0,0,0,0,1]) #8\n",
        "cylinder = onehotcylinder(cylinders)\n",
        "org=np.array([1,0,0] )#1"
      ],
      "execution_count": null,
      "outputs": []
    },
    {
      "cell_type": "code",
      "metadata": {
        "colab": {
          "base_uri": "https://localhost:8080/"
        },
        "id": "Ui-vyw3XXWXo",
        "outputId": "12020c1e-4b17-4656-a99f-65704d10065f"
      },
      "source": [
        "#np.concatenate((a, b), axis=None)\n",
        "result =np.concatenate((x_continues, cylinder,org), axis=None)\n",
        "result.shape, result"
      ],
      "execution_count": null,
      "outputs": [
        {
          "output_type": "execute_result",
          "data": {
            "text/plain": [
              "((12,),\n",
              " array([3.070e+02, 1.300e+02, 3.504e+03, 1.200e+01, 0.000e+00, 0.000e+00,\n",
              "        0.000e+00, 0.000e+00, 1.000e+00, 1.000e+00, 0.000e+00, 0.000e+00]))"
            ]
          },
          "metadata": {
            "tags": []
          },
          "execution_count": 66
        }
      ]
    },
    {
      "cell_type": "code",
      "metadata": {
        "colab": {
          "base_uri": "https://localhost:8080/"
        },
        "id": "ByXXmkPlXRKk",
        "outputId": "f6eddacd-5600-4046-ce6b-1f24b8810876"
      },
      "source": [
        "type(x_continues), type(cylinder), type(org)"
      ],
      "execution_count": null,
      "outputs": [
        {
          "output_type": "execute_result",
          "data": {
            "text/plain": [
              "(numpy.ndarray, numpy.ndarray, numpy.ndarray)"
            ]
          },
          "metadata": {
            "tags": []
          },
          "execution_count": 36
        }
      ]
    },
    {
      "cell_type": "code",
      "metadata": {
        "colab": {
          "base_uri": "https://localhost:8080/"
        },
        "id": "HuEX1JROZHBh",
        "outputId": "3d2f3b42-59c2-46ba-cbdf-3b31be316aab"
      },
      "source": [
        "result =result.reshape(-1,result.size)\n",
        "result,result.shape"
      ],
      "execution_count": null,
      "outputs": [
        {
          "output_type": "execute_result",
          "data": {
            "text/plain": [
              "(array([[3.070e+02, 1.300e+02, 3.504e+03, 1.200e+01, 0.000e+00, 0.000e+00,\n",
              "         0.000e+00, 0.000e+00, 1.000e+00, 1.000e+00, 0.000e+00, 0.000e+00]]),\n",
              " (1, 12))"
            ]
          },
          "metadata": {
            "tags": []
          },
          "execution_count": 38
        }
      ]
    },
    {
      "cell_type": "markdown",
      "metadata": {
        "id": "RhT7ZddVio52"
      },
      "source": [
        "# function의 이해\n"
      ]
    },
    {
      "cell_type": "code",
      "metadata": {
        "colab": {
          "base_uri": "https://localhost:8080/"
        },
        "id": "vtH29FkkbBD_",
        "outputId": "2e9db2c7-fbfd-476b-ba61-dab4f5893884"
      },
      "source": [
        "21+14\n"
      ],
      "execution_count": null,
      "outputs": [
        {
          "output_type": "execute_result",
          "data": {
            "text/plain": [
              "35"
            ]
          },
          "metadata": {
            "tags": []
          },
          "execution_count": 39
        }
      ]
    },
    {
      "cell_type": "code",
      "metadata": {
        "colab": {
          "base_uri": "https://localhost:8080/"
        },
        "id": "N35KnPpti1yj",
        "outputId": "2c259af1-c37c-4b2e-88df-4f9b01f641d2"
      },
      "source": [
        "32+45"
      ],
      "execution_count": null,
      "outputs": [
        {
          "output_type": "execute_result",
          "data": {
            "text/plain": [
              "77"
            ]
          },
          "metadata": {
            "tags": []
          },
          "execution_count": 40
        }
      ]
    },
    {
      "cell_type": "code",
      "metadata": {
        "id": "q_S8Hd18i4VM"
      },
      "source": [
        "def sum():\n",
        "  first=32\n",
        "  second=45\n",
        "  result =first+second\n",
        "  return result"
      ],
      "execution_count": null,
      "outputs": []
    },
    {
      "cell_type": "code",
      "metadata": {
        "colab": {
          "base_uri": "https://localhost:8080/"
        },
        "id": "R4yihFb6jSA0",
        "outputId": "a37d30c4-7c2a-4da0-c79f-5650d1d3f69c"
      },
      "source": [
        "sum()"
      ],
      "execution_count": null,
      "outputs": [
        {
          "output_type": "execute_result",
          "data": {
            "text/plain": [
              "77"
            ]
          },
          "metadata": {
            "tags": []
          },
          "execution_count": 42
        }
      ]
    },
    {
      "cell_type": "code",
      "metadata": {
        "id": "mTbdQBzgm8tW"
      },
      "source": [
        "def sum(f01,s02):\n",
        "  first=f01\n",
        "  second=s02\n",
        "  result =first+second\n",
        "  return result,second,first"
      ],
      "execution_count": null,
      "outputs": []
    },
    {
      "cell_type": "code",
      "metadata": {
        "colab": {
          "base_uri": "https://localhost:8080/"
        },
        "id": "AcFrdrVHpFui",
        "outputId": "5e5900fc-910b-4a11-9672-b1edabbfa543"
      },
      "source": [
        "r01,r02,r03=sum(32,21)\n",
        "print(r01,r02)"
      ],
      "execution_count": null,
      "outputs": [
        {
          "output_type": "stream",
          "text": [
            "53 21\n"
          ],
          "name": "stdout"
        }
      ]
    },
    {
      "cell_type": "code",
      "metadata": {
        "colab": {
          "base_uri": "https://localhost:8080/"
        },
        "id": "mm8CS1tRpG7p",
        "outputId": "25fd7d74-5cd5-4c0e-e3aa-ae84e3fae4d0"
      },
      "source": [
        "21*32*2"
      ],
      "execution_count": null,
      "outputs": [
        {
          "output_type": "execute_result",
          "data": {
            "text/plain": [
              "1344"
            ]
          },
          "metadata": {
            "tags": []
          },
          "execution_count": 47
        }
      ]
    },
    {
      "cell_type": "code",
      "metadata": {
        "colab": {
          "base_uri": "https://localhost:8080/"
        },
        "id": "m6rwm1XPtaAK",
        "outputId": "07cf50ab-89b1-4d41-c82e-3a536a8629e8"
      },
      "source": [
        "31*61*41"
      ],
      "execution_count": null,
      "outputs": [
        {
          "output_type": "execute_result",
          "data": {
            "text/plain": [
              "77531"
            ]
          },
          "metadata": {
            "tags": []
          },
          "execution_count": 48
        }
      ]
    },
    {
      "cell_type": "code",
      "metadata": {
        "id": "QmUtZNe9tdlR"
      },
      "source": [
        "def nam(a,b,c):\n",
        "  first=a\n",
        "  sec=b\n",
        "  third=c\n",
        "  result=a*b*c\n",
        "  return result"
      ],
      "execution_count": null,
      "outputs": []
    },
    {
      "cell_type": "code",
      "metadata": {
        "colab": {
          "base_uri": "https://localhost:8080/"
        },
        "id": "nP-vJ4s6txKx",
        "outputId": "265bc809-b016-41bd-8a2d-d49612956546"
      },
      "source": [
        "nam(2,3,4)"
      ],
      "execution_count": null,
      "outputs": [
        {
          "output_type": "execute_result",
          "data": {
            "text/plain": [
              "24"
            ]
          },
          "metadata": {
            "tags": []
          },
          "execution_count": 50
        }
      ]
    },
    {
      "cell_type": "code",
      "metadata": {
        "id": "IAXYQGLYtzc5"
      },
      "source": [
        "def diffparam(*var_list, **var_dict):\n",
        "  print(var_dict)\n",
        "  result01=len(var_list)\n",
        "  return result01"
      ],
      "execution_count": null,
      "outputs": []
    },
    {
      "cell_type": "code",
      "metadata": {
        "colab": {
          "base_uri": "https://localhost:8080/"
        },
        "id": "qOE2Wga9zLrr",
        "outputId": "9087d75c-92a5-447a-fab6-98221d09839c"
      },
      "source": [
        "diffparam(1,2,3, a=2,b=3)"
      ],
      "execution_count": null,
      "outputs": [
        {
          "output_type": "stream",
          "text": [
            "{'a': 2, 'b': 3}\n"
          ],
          "name": "stdout"
        },
        {
          "output_type": "execute_result",
          "data": {
            "text/plain": [
              "3"
            ]
          },
          "metadata": {
            "tags": []
          },
          "execution_count": 58
        }
      ]
    },
    {
      "cell_type": "code",
      "metadata": {
        "colab": {
          "base_uri": "https://localhost:8080/"
        },
        "id": "JcC_mM0Szg82",
        "outputId": "6898ab7d-31b9-4cc3-c302-9e8bc07dff17"
      },
      "source": [
        "diffparam(1,2,3,5,6, c=5,d=6,a=2,b=3)"
      ],
      "execution_count": null,
      "outputs": [
        {
          "output_type": "stream",
          "text": [
            "{'c': 5, 'd': 6, 'a': 2, 'b': 3}\n"
          ],
          "name": "stdout"
        },
        {
          "output_type": "execute_result",
          "data": {
            "text/plain": [
              "5"
            ]
          },
          "metadata": {
            "tags": []
          },
          "execution_count": 59
        }
      ]
    }
  ]
}